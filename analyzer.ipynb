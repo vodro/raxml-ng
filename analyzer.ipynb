{
 "cells": [
  {
   "cell_type": "code",
   "execution_count": 83,
   "metadata": {},
   "outputs": [],
   "source": [
    "import numpy as np\n",
    "import pandas as pd\n",
    "from codes.parameters import REMOVED_TAXA_RANGE"
   ]
  },
  {
   "cell_type": "code",
   "execution_count": 84,
   "metadata": {},
   "outputs": [],
   "source": [
    "number_of_range = len(REMOVED_TAXA_RANGE)"
   ]
  },
  {
   "cell_type": "code",
   "execution_count": 85,
   "metadata": {},
   "outputs": [],
   "source": [
    "df = pd.read_csv('stats/RF.csv', header=None)\n",
    "# df.head()"
   ]
  },
  {
   "cell_type": "code",
   "execution_count": 86,
   "metadata": {},
   "outputs": [],
   "source": [
    "arr = df.values[:, [0,1,4]]\n",
    "arr = np.array(arr)\n",
    "# arr"
   ]
  },
  {
   "cell_type": "code",
   "execution_count": 87,
   "metadata": {},
   "outputs": [
    {
     "name": "stdout",
     "output_type": "stream",
     "text": [
      "Missing Range:  12-14\n",
      "Total Number of Trees in Terrace:  3\n",
      "Number of Trees Better than ASTRAL :  0 \t percentage ;  0.0 %\n",
      "Number of Trees Equal to ASTRAL :  2 \t percentage ;  66.66666666666666 %\n",
      "Number of Trees Worse than ASTRAL :  1 \t percentage ;  33.33333333333333 %\n",
      "Missing Range:  13-16\n",
      "Total Number of Trees in Terrace:  45\n",
      "Number of Trees Better than ASTRAL :  8 \t percentage ;  17.77777777777778 %\n",
      "Number of Trees Equal to ASTRAL :  20 \t percentage ;  44.44444444444444 %\n",
      "Number of Trees Worse than ASTRAL :  17 \t percentage ;  37.77777777777778 %\n"
     ]
    }
   ],
   "source": [
    "rows, cols = arr.shape\n",
    "astral_rf_score=0\n",
    "astral_row_number = -1\n",
    "cnt = np.zeros((number_of_range, 3), dtype=int)\n",
    "cur_range_cnt = -1\n",
    "for i in range(rows):\n",
    "    if arr[i][0] == 'astral':\n",
    "        astral_rf_score = arr[i][2]\n",
    "        astral_row_number = i\n",
    "        cur_range_cnt += 1\n",
    "        continue\n",
    "\n",
    "    if arr[i][2] > astral_rf_score:\n",
    "        cnt[cur_range_cnt][0] += 1 # better\n",
    "    elif arr[i][2] == astral_rf_score:\n",
    "        cnt[cur_range_cnt][1] += 1 # same\n",
    "    else:\n",
    "        cnt[cur_range_cnt][2] += 1 # worse\n",
    "    \n",
    "    if (i < rows-1 and arr[i+1][0] == 'astral') or i == rows-1:\n",
    "        sum = cnt[cur_range_cnt][0] + cnt[cur_range_cnt][1] + cnt[cur_range_cnt][2]\n",
    "        print(\"Missing Range: \", REMOVED_TAXA_RANGE[cur_range_cnt])\n",
    "        print(\"Total Number of Trees in Terrace: \", sum)\n",
    "        print(\"Number of Trees Better than ASTRAL : \", cnt[cur_range_cnt][0], \"\\t percentage ; \", cnt[cur_range_cnt][0]/sum*100, \"%\")\n",
    "        print(\"Number of Trees Equal to ASTRAL : \", cnt[cur_range_cnt][1], \"\\t percentage ; \", cnt[cur_range_cnt][1]/sum*100, \"%\")\n",
    "        print(\"Number of Trees Worse than ASTRAL : \", cnt[cur_range_cnt][2], \"\\t percentage ; \", cnt[cur_range_cnt][2]/sum*100, \"%\")\n",
    "        print\n",
    "\n",
    "        "
   ]
  },
  {
   "cell_type": "code",
   "execution_count": null,
   "metadata": {},
   "outputs": [],
   "source": []
  }
 ],
 "metadata": {
  "kernelspec": {
   "display_name": "tf2",
   "language": "python",
   "name": "python3"
  },
  "language_info": {
   "codemirror_mode": {
    "name": "ipython",
    "version": 3
   },
   "file_extension": ".py",
   "mimetype": "text/x-python",
   "name": "python",
   "nbconvert_exporter": "python",
   "pygments_lexer": "ipython3",
   "version": "3.11.0"
  },
  "orig_nbformat": 4,
  "vscode": {
   "interpreter": {
    "hash": "cfd499bf418f77ed98604f368b9dcc9d49d2a51ff3f93a138504985eb88a9fa1"
   }
  }
 },
 "nbformat": 4,
 "nbformat_minor": 2
}
