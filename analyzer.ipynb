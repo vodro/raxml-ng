{
 "cells": [
  {
   "cell_type": "code",
   "execution_count": 103,
   "metadata": {},
   "outputs": [],
   "source": [
    "import numpy as np\n",
    "import pandas as pd\n",
    "from codes.parameters import REMOVED_TAXA_RANGE"
   ]
  },
  {
   "cell_type": "code",
   "execution_count": 104,
   "metadata": {},
   "outputs": [],
   "source": [
    "number_of_range = len(REMOVED_TAXA_RANGE)"
   ]
  },
  {
   "cell_type": "code",
   "execution_count": 105,
   "metadata": {},
   "outputs": [],
   "source": [
    "df = pd.read_csv('stats/RF.csv', header=None)\n",
    "# df.head()"
   ]
  },
  {
   "cell_type": "code",
   "execution_count": 106,
   "metadata": {},
   "outputs": [],
   "source": [
    "arr = df.values[:, [0,1,4]]\n",
    "arr = np.array(arr)\n",
    "# arr"
   ]
  },
  {
   "cell_type": "code",
   "execution_count": 107,
   "metadata": {},
   "outputs": [
    {
     "name": "stdout",
     "output_type": "stream",
     "text": [
      "Missing Range:  8-15\n",
      "Total Number of Trees in Terrace:  3\n",
      "Number of Trees Better than ASTRAL :  1 \t percentage ;  33.33333333333333 %\n",
      "Number of Trees Equal to ASTRAL :  2 \t percentage ;  66.66666666666666 %\n",
      "Number of Trees Worse than ASTRAL :  0 \t percentage ;  0.0 %\n",
      "Astral RF Score :  0.1764705882352941 \t Terrace avg RF Score:  0.16666666666666663\n",
      "Missing Range:  12-14\n",
      "Total Number of Trees in Terrace:  3\n",
      "Number of Trees Better than ASTRAL :  0 \t percentage ;  0.0 %\n",
      "Number of Trees Equal to ASTRAL :  3 \t percentage ;  100.0 %\n",
      "Number of Trees Worse than ASTRAL :  0 \t percentage ;  0.0 %\n",
      "Astral RF Score :  0.2352941176470588 \t Terrace avg RF Score:  0.2352941176470588\n"
     ]
    },
    {
     "ename": "IndexError",
     "evalue": "index 3 is out of bounds for axis 0 with size 3",
     "output_type": "error",
     "traceback": [
      "\u001b[0;31m---------------------------------------------------------------------------\u001b[0m",
      "\u001b[0;31mIndexError\u001b[0m                                Traceback (most recent call last)",
      "Cell \u001b[0;32mIn[107], line 24\u001b[0m\n\u001b[1;32m     22\u001b[0m     cnt[cur_range_cnt][\u001b[39m1\u001b[39m] \u001b[39m+\u001b[39m\u001b[39m=\u001b[39m \u001b[39m1\u001b[39m \u001b[39m# same\u001b[39;00m\n\u001b[1;32m     23\u001b[0m \u001b[39melse\u001b[39;00m:\n\u001b[0;32m---> 24\u001b[0m     cnt[cur_range_cnt][\u001b[39m2\u001b[39m] \u001b[39m+\u001b[39m\u001b[39m=\u001b[39m \u001b[39m1\u001b[39m \u001b[39m# worse\u001b[39;00m\n\u001b[1;32m     26\u001b[0m \u001b[39mif\u001b[39;00m (i \u001b[39m<\u001b[39m rows\u001b[39m-\u001b[39m\u001b[39m1\u001b[39m \u001b[39mand\u001b[39;00m arr[i\u001b[39m+\u001b[39m\u001b[39m1\u001b[39m][\u001b[39m0\u001b[39m] \u001b[39m==\u001b[39m \u001b[39m'\u001b[39m\u001b[39mastral\u001b[39m\u001b[39m'\u001b[39m) \u001b[39mor\u001b[39;00m i \u001b[39m==\u001b[39m rows\u001b[39m-\u001b[39m\u001b[39m1\u001b[39m:\n\u001b[1;32m     27\u001b[0m     \u001b[39msum\u001b[39m \u001b[39m=\u001b[39m cnt[cur_range_cnt][\u001b[39m0\u001b[39m] \u001b[39m+\u001b[39m cnt[cur_range_cnt][\u001b[39m1\u001b[39m] \u001b[39m+\u001b[39m cnt[cur_range_cnt][\u001b[39m2\u001b[39m]\n",
      "\u001b[0;31mIndexError\u001b[0m: index 3 is out of bounds for axis 0 with size 3"
     ]
    }
   ],
   "source": [
    "rows, cols = arr.shape\n",
    "astral_rf_score=0\n",
    "astral_row_number = -1\n",
    "cnt = np.zeros((number_of_range, 3), dtype=int)\n",
    "cur_range_cnt = -1\n",
    "terrace_total_RF = 0\n",
    "terrace_cnt =0\n",
    "for i in range(rows):\n",
    "    if arr[i][0] == 'astral':\n",
    "        astral_rf_score = arr[i][2]\n",
    "        astral_row_number = i\n",
    "        cur_range_cnt += 1\n",
    "        terrace_total_RF = 0\n",
    "        terrace_cnt = 0\n",
    "        continue\n",
    "    \n",
    "    terrace_total_RF += arr[i][2]\n",
    "    terrace_cnt += 1\n",
    "    if arr[i][2] < astral_rf_score:\n",
    "        cnt[cur_range_cnt][0] += 1 # better\n",
    "    elif arr[i][2] == astral_rf_score:\n",
    "        cnt[cur_range_cnt][1] += 1 # same\n",
    "    else:\n",
    "        cnt[cur_range_cnt][2] += 1 # worse\n",
    "    \n",
    "    if (i < rows-1 and arr[i+1][0] == 'astral') or i == rows-1:\n",
    "        sum = cnt[cur_range_cnt][0] + cnt[cur_range_cnt][1] + cnt[cur_range_cnt][2]\n",
    "        print(\"Missing Range: \", REMOVED_TAXA_RANGE[cur_range_cnt])\n",
    "        print(\"Total Number of Trees in Terrace: \", sum)\n",
    "        print(\"Number of Trees Better than ASTRAL : \", cnt[cur_range_cnt][0], \"\\t percentage ; \", cnt[cur_range_cnt][0]/sum*100, \"%\")\n",
    "        print(\"Number of Trees Equal to ASTRAL : \", cnt[cur_range_cnt][1], \"\\t percentage ; \", cnt[cur_range_cnt][1]/sum*100, \"%\")\n",
    "        print(\"Number of Trees Worse than ASTRAL : \", cnt[cur_range_cnt][2], \"\\t percentage ; \", cnt[cur_range_cnt][2]/sum*100, \"%\")\n",
    "        print(\"Astral RF Score : \", astral_rf_score, \"\\t Terrace avg RF Score: \", terrace_total_RF/terrace_cnt)\n",
    "\n",
    "        "
   ]
  },
  {
   "cell_type": "code",
   "execution_count": null,
   "metadata": {},
   "outputs": [],
   "source": []
  }
 ],
 "metadata": {
  "kernelspec": {
   "display_name": "tf2",
   "language": "python",
   "name": "python3"
  },
  "language_info": {
   "codemirror_mode": {
    "name": "ipython",
    "version": 3
   },
   "file_extension": ".py",
   "mimetype": "text/x-python",
   "name": "python",
   "nbconvert_exporter": "python",
   "pygments_lexer": "ipython3",
   "version": "3.11.0"
  },
  "orig_nbformat": 4,
  "vscode": {
   "interpreter": {
    "hash": "cfd499bf418f77ed98604f368b9dcc9d49d2a51ff3f93a138504985eb88a9fa1"
   }
  }
 },
 "nbformat": 4,
 "nbformat_minor": 2
}
