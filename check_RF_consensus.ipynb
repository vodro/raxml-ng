{
 "cells": [
  {
   "cell_type": "code",
   "execution_count": 93,
   "metadata": {},
   "outputs": [],
   "source": [
    "import numpy as np\n",
    "import re\n",
    "import ast\n",
    "import subprocess\n",
    "from codes.utils.file import create_file_abs, create_parent_dir, dir_exists_abs, file_exists_absolute, join_dir, file_exists_current, file_remove_current\n",
    "from codes.parameters import ASTRAL, NUMPY_EXTENSION, QUARTETS, SCRIPT_FOLDER, STATS_FOLDER, TRUE_FOLDER, WQFM, \\\n",
    "    COMPLETE, GENE_TREE, QUARTETS, INCOMPLETE, IMPUTED_LIST, OUTPUT_FOLDER, NUMPY_ARRAY, REMOVED_TAXA_RANGE, INPUT_FOLDER, \\\n",
    "    QUARTETS_EXTENSION, MODES_LIST, WORKING_FOLDER, METHODS, TERRACE_OUTPUT_FOLDER"
   ]
  },
  {
   "cell_type": "code",
   "execution_count": 94,
   "metadata": {},
   "outputs": [
    {
     "name": "stdout",
     "output_type": "stream",
     "text": [
      "File exists.\n",
      "\n",
      "RAxML-NG v. 1.1.0-master released on 04.08.2022 by The Exelixis Lab.\n",
      "Developed by: Alexey M. Kozlov and Alexandros Stamatakis.\n",
      "Contributors: Diego Darriba, Tomas Flouri, Benoit Morel, Sarah Lutteropp, Ben Bettisworth.\n",
      "Latest version: https://github.com/amkozlov/raxml-ng\n",
      "Questions/problems/suggestions? Please visit: https://groups.google.com/forum/#!forum/raxml\n",
      "\n",
      "System: Apple M1, 8 cores, 8 GB RAM\n",
      "\n",
      "RAxML-NG was called at 24-Jan-2023 23:31:47 as follows:\n",
      "\n",
      "./bin/raxml-ng --consense MRE --tree terrace_output/15-18.txt\n",
      "\n",
      "Analysis options:\n",
      "  run mode: Build consensus tree (MRE)\n",
      "  start tree(s): user\n",
      "  random seed: 1674581507\n",
      "  SIMD kernels: SSE3\n",
      "  parallelization: coarse-grained (auto), PTHREADS (auto)\n",
      "\n",
      "Reading input trees from file: terrace_output/15-18.txt\n",
      "Loaded 45 trees with 37 taxa.\n",
      "\n",
      "MRE consensus tree saved to: /Users/sayemhasan/Desktop/Thesis/Terraces/raxml-ng/terrace_output/15-18.txt.raxml.consensusTreeMRE\n",
      "\n",
      "Execution log saved to: /Users/sayemhasan/Desktop/Thesis/Terraces/raxml-ng/terrace_output/15-18.txt.raxml.log\n",
      "\n",
      "Analysis started: 24-Jan-2023 23:31:47 / finished: 24-Jan-2023 23:31:47\n",
      "\n",
      "Elapsed time: 0.005 seconds\n",
      "\n"
     ]
    }
   ],
   "source": [
    "file_path = \"terrace_output/15-18.txt.raxml.consensusTreeMRE\"\n",
    "# !rm -r terrace_output/15-18.txt.raxml.consensusTreeMRE\n",
    "!./run_consensus.sh"
   ]
  },
  {
   "cell_type": "code",
   "execution_count": 95,
   "metadata": {},
   "outputs": [],
   "source": [
    "# !./bin/raxml-ng --consense MRE --tree terrace_output/15-18.txt"
   ]
  },
  {
   "cell_type": "code",
   "execution_count": 96,
   "metadata": {},
   "outputs": [],
   "source": [
    "file = open('terrace_output/15-18.txt.raxml.consensusTreeMRE')\n",
    "lines = file.readlines()"
   ]
  },
  {
   "cell_type": "code",
   "execution_count": 97,
   "metadata": {},
   "outputs": [
    {
     "data": {
      "text/plain": [
       "'((MYO,PTE),((SOR,((ERI,EQU),(CAN,FEL))),(((DAS,CHO),((GAL,(MAC,(MON,ORN))),(PRO,(LOX,ECH)))),((OCH,ORY),(((TUP,(MIC,OTO)),((CAV,(MUS,RAT)),(TAR,((PON,(GOR,(HOM,PAN))),(NEW,CAL))))),(DIP,SPE))))),(BOS,(SUS,(TUR,VIC))));\\n'"
      ]
     },
     "execution_count": 97,
     "metadata": {},
     "output_type": "execute_result"
    }
   ],
   "source": [
    "line = lines[0]\n",
    "line = re.sub(r'[0-9]', '', line)\n",
    "line"
   ]
  },
  {
   "cell_type": "code",
   "execution_count": 98,
   "metadata": {},
   "outputs": [],
   "source": [
    "file = open('terrace_output/15-18.txt.raxml.consensusTreeMRE', 'w')\n",
    "file.writelines(line)\n",
    "file.close()\n"
   ]
  },
  {
   "cell_type": "code",
   "execution_count": 99,
   "metadata": {},
   "outputs": [],
   "source": [
    "true_tree = join_dir(TRUE_FOLDER, 'true-species.out.tree')\n",
    "file_abs = join_dir('terrace_output/15-18.txt.raxml.consensusTreeMRE')"
   ]
  },
  {
   "cell_type": "code",
   "execution_count": 100,
   "metadata": {},
   "outputs": [
    {
     "name": "stdout",
     "output_type": "stream",
     "text": [
      "0.5\n"
     ]
    }
   ],
   "source": [
    "# get RF distance\n",
    "result = ast.literal_eval(subprocess.check_output(['getFpFn.py', '-t', true_tree, '-e', file_abs], encoding='UTF-8'))\n",
    "assert result[0] == result[1] == result[2]\n",
    "dist = str(result[0])\n",
    "print( dist)"
   ]
  }
 ],
 "metadata": {
  "kernelspec": {
   "display_name": "tf2",
   "language": "python",
   "name": "python3"
  },
  "language_info": {
   "codemirror_mode": {
    "name": "ipython",
    "version": 3
   },
   "file_extension": ".py",
   "mimetype": "text/x-python",
   "name": "python",
   "nbconvert_exporter": "python",
   "pygments_lexer": "ipython3",
   "version": "3.11.0"
  },
  "orig_nbformat": 4,
  "vscode": {
   "interpreter": {
    "hash": "cfd499bf418f77ed98604f368b9dcc9d49d2a51ff3f93a138504985eb88a9fa1"
   }
  }
 },
 "nbformat": 4,
 "nbformat_minor": 2
}
