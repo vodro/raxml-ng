{
 "cells": [
  {
   "cell_type": "code",
   "execution_count": null,
   "metadata": {},
   "outputs": [],
   "source": [
    "import numpy as np\n",
    "import re\n",
    "import ast\n",
    "import subprocess\n",
    "import os, csv\n",
    "from codes.utils.file import create_file_abs, create_parent_dir, dir_exists_abs, file_exists_absolute, join_dir, file_exists_current, file_remove_current\n",
    "from codes.parameters import ASTRAL, NUMPY_EXTENSION, QUARTETS, SCRIPT_FOLDER, STATS_FOLDER, TRUE_FOLDER, WQFM, \\\n",
    "    COMPLETE, GENE_TREE, QUARTETS, INCOMPLETE, IMPUTED_LIST, OUTPUT_FOLDER, NUMPY_ARRAY, REMOVED_TAXA_RANGE, INPUT_FOLDER, \\\n",
    "    QUARTETS_EXTENSION, MODES_LIST, WORKING_FOLDER, METHODS, TERRACE_OUTPUT_FOLDER"
   ]
  },
  {
   "cell_type": "code",
   "execution_count": null,
   "metadata": {},
   "outputs": [],
   "source": [
    "# from IPython import get_ipython"
   ]
  },
  {
   "cell_type": "code",
   "execution_count": null,
   "metadata": {},
   "outputs": [],
   "source": [
    "terrace_dir = join_dir(TERRACE_OUTPUT_FOLDER)\n",
    "consensus_dir = join_dir(terrace_dir, \"consensus\")\n",
    "!rm -rf \"$consensus_dir\"\n",
    "!mkdir \"$consensus_dir\"\n",
    "\n",
    "if not dir_exists_abs(terrace_dir):\n",
    "    print(\"Directory does not exist: {}\".format(terrace_dir))\n",
    "    exit(1)"
   ]
  },
  {
   "cell_type": "code",
   "execution_count": null,
   "metadata": {},
   "outputs": [],
   "source": [
    "# get consensus trees\n",
    "for terrace_file in os.listdir(terrace_dir):\n",
    "    file_path = join_dir(terrace_dir, terrace_file)\n",
    "    if file_path.endswith(\".txt\"):\n",
    "        print(\"Processing file: {}\".format(file_path))\n",
    "        terrace_file_name = terrace_file.split(\".\")[0]\n",
    "        !./bin/raxml-ng --consense MRE --tree \"$file_path\" --prefix \"$consensus_dir\"/\"$terrace_file_name\" "
   ]
  },
  {
   "cell_type": "code",
   "execution_count": null,
   "metadata": {},
   "outputs": [],
   "source": [
    "def remove_numbers_from_consensus_tree(file_path):\n",
    "    file = open(file_path, \"r\")\n",
    "    lines = file.readlines()\n",
    "    line = lines[0]\n",
    "    line = re.sub(r'[0-9]', '', line)\n",
    "    # print(line)\n",
    "    file = open(file_path, 'w')\n",
    "    file.writelines(line)\n",
    "    file.close()"
   ]
  },
  {
   "cell_type": "code",
   "execution_count": null,
   "metadata": {},
   "outputs": [],
   "source": [
    "# get RF distance\n",
    "def get_RF_distance(true_tree, file_abs):\n",
    "    result = ast.literal_eval(subprocess.check_output(['getFpFn.py', '-t', true_tree, '-e', file_abs], encoding='UTF-8'))\n",
    "    assert result[0] == result[1] == result[2]\n",
    "    dist = str(result[0])\n",
    "    # print( dist)\n",
    "    return dist"
   ]
  },
  {
   "cell_type": "code",
   "execution_count": null,
   "metadata": {},
   "outputs": [],
   "source": [
    "true_tree = join_dir(TRUE_FOLDER, 'true-species.out.tree')"
   ]
  },
  {
   "cell_type": "code",
   "execution_count": null,
   "metadata": {},
   "outputs": [],
   "source": [
    "print(\"Removing numbers from consensus trees\")\n",
    "CONSENSUS_TREE_EXTENSION = \"consensusTreeMRE\"\n",
    "csv_out_list = []\n",
    "for consensus_file in os.listdir(consensus_dir):\n",
    "    if consensus_file.endswith(CONSENSUS_TREE_EXTENSION):\n",
    "        file_path = join_dir(consensus_dir, consensus_file)\n",
    "        print(\"Processing file: {}\".format(file_path))\n",
    "        remove_numbers_from_consensus_tree(file_path)\n",
    "        dist = get_RF_distance(true_tree, file_path)\n",
    "        print(\"RF distance: {}\".format(dist))\n",
    "        missing_range = consensus_file.split(\".\")[0].split(\"_\")[0]\n",
    "        replica_no = consensus_file.split(\".\")[0].split(\"_\")[1]\n",
    "        csv_out_list.append([replica_no, missing_range, dist])\n",
    "# print(csv_out_list)"
   ]
  },
  {
   "cell_type": "code",
   "execution_count": null,
   "metadata": {},
   "outputs": [],
   "source": [
    "stats_file = \"stats/RF_consensus.csv\"\n",
    "with open(stats_file, \"w\") as stat_file:\n",
    "    csv.writer(stat_file).writerows(csv_out_list)"
   ]
  }
 ],
 "metadata": {
  "kernelspec": {
   "display_name": "tf2",
   "language": "python",
   "name": "python3"
  },
  "language_info": {
   "codemirror_mode": {
    "name": "ipython",
    "version": 3
   },
   "file_extension": ".py",
   "mimetype": "text/x-python",
   "name": "python",
   "nbconvert_exporter": "python",
   "pygments_lexer": "ipython3",
   "version": "3.11.0"
  },
  "orig_nbformat": 4,
  "vscode": {
   "interpreter": {
    "hash": "cfd499bf418f77ed98604f368b9dcc9d49d2a51ff3f93a138504985eb88a9fa1"
   }
  }
 },
 "nbformat": 4,
 "nbformat_minor": 2
}
